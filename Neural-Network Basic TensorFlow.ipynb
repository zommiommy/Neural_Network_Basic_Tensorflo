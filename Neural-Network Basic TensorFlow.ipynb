{
 "cells": [
  {
   "cell_type": "markdown",
   "metadata": {},
   "source": [
    "# Neural-Network Basic TensorFlow"
   ]
  },
  {
   "cell_type": "markdown",
   "metadata": {},
   "source": [
    "Import Library"
   ]
  },
  {
   "cell_type": "code",
   "execution_count": 1,
   "metadata": {
    "collapsed": true
   },
   "outputs": [],
   "source": [
    "import numpy as np\n",
    "import tensorflow as tf"
   ]
  },
  {
   "cell_type": "markdown",
   "metadata": {},
   "source": [
    "Hyperparameters"
   ]
  },
  {
   "cell_type": "code",
   "execution_count": 2,
   "metadata": {
    "collapsed": true
   },
   "outputs": [],
   "source": [
    "learning_rate    = 1e-4\n",
    "input_dimension  = 4\n",
    "neuron_per_layer = 20\n",
    "output_dimension = input_dimension"
   ]
  },
  {
   "cell_type": "markdown",
   "metadata": {},
   "source": [
    "Create the placeholder for the input and output of the NN, (non trainable variable)"
   ]
  },
  {
   "cell_type": "code",
   "execution_count": 3,
   "metadata": {
    "collapsed": true
   },
   "outputs": [],
   "source": [
    "INPUT  = tf.placeholder(tf.float32, [None,  input_dimension])\n",
    "OUTPUT = tf.placeholder(tf.float32, [None, output_dimension])"
   ]
  },
  {
   "cell_type": "markdown",
   "metadata": {},
   "source": [
    "Create the Weight we are gonna modifiy to improve network accuracy (i'll set them to random value from a normal distribution with std_dev = 0.1 because it's a good stocastic inizialization)"
   ]
  },
  {
   "cell_type": "code",
   "execution_count": 4,
   "metadata": {
    "collapsed": false
   },
   "outputs": [],
   "source": [
    "W_i = tf.Variable(tf.truncated_normal([input_dimension,neuron_per_layer], stddev=0.1), dtype=tf.float32)\n",
    "b_i = tf.Variable(tf.truncated_normal([neuron_per_layer], stddev=0.1), dtype=tf.float32)\n",
    "\n",
    "W   = tf.Variable(tf.truncated_normal([neuron_per_layer,neuron_per_layer], stddev=0.1), dtype=tf.float32)\n",
    "B   = tf.Variable(tf.truncated_normal([neuron_per_layer], stddev=0.1), dtype=tf.float32)\n",
    "\n",
    "W_o = tf.Variable(tf.truncated_normal([neuron_per_layer,output_dimension], stddev=0.1), dtype=tf.float32)\n",
    "b_o = tf.Variable(tf.truncated_normal([output_dimension], stddev=0.1), dtype=tf.float32)"
   ]
  },
  {
   "cell_type": "markdown",
   "metadata": {},
   "source": [
    "Actual NN model"
   ]
  },
  {
   "cell_type": "code",
   "execution_count": 5,
   "metadata": {
    "collapsed": true
   },
   "outputs": [],
   "source": [
    "a = tf.add(tf.matmul(INPUT,W_i),b_i)\n",
    "a = tf.nn.sigmoid(a)\n",
    "a = tf.add(tf.matmul(a,W),B)\n",
    "a = tf.nn.sigmoid(a)\n",
    "a = tf.add(tf.matmul(a,W_o),b_o)\n",
    "output = tf.nn.sigmoid(a)"
   ]
  },
  {
   "cell_type": "markdown",
   "metadata": {},
   "source": [
    "Define the cost function we are gonna differentiate"
   ]
  },
  {
   "cell_type": "code",
   "execution_count": 6,
   "metadata": {
    "collapsed": false
   },
   "outputs": [],
   "source": [
    "cost = tf.reduce_mean(tf.losses.sigmoid_cross_entropy(OUTPUT,logits=output))"
   ]
  },
  {
   "cell_type": "markdown",
   "metadata": {},
   "source": [
    "Set the optimizer"
   ]
  },
  {
   "cell_type": "code",
   "execution_count": 7,
   "metadata": {
    "collapsed": false
   },
   "outputs": [],
   "source": [
    "optimizer = tf.train.AdamOptimizer(learning_rate=learning_rate).minimize(cost)"
   ]
  },
  {
   "cell_type": "markdown",
   "metadata": {},
   "source": [
    "Actually create the computation graph and initilize the variables"
   ]
  },
  {
   "cell_type": "code",
   "execution_count": 8,
   "metadata": {
    "collapsed": true
   },
   "outputs": [],
   "source": [
    "sess = tf.InteractiveSession()\n",
    "tf.global_variables_initializer().run()"
   ]
  },
  {
   "cell_type": "markdown",
   "metadata": {},
   "source": [
    "### Test the NN"
   ]
  },
  {
   "cell_type": "markdown",
   "metadata": {},
   "source": [
    "Create random data"
   ]
  },
  {
   "cell_type": "code",
   "execution_count": 9,
   "metadata": {
    "collapsed": false
   },
   "outputs": [
    {
     "name": "stdout",
     "output_type": "stream",
     "text": [
      "[[ 0.90055322  0.40943323  0.33231894  0.34095264]]\n"
     ]
    }
   ],
   "source": [
    "dummy_data = np.random.rand(1,input_dimension)\n",
    "\n",
    "print(dummy_data)"
   ]
  },
  {
   "cell_type": "markdown",
   "metadata": {},
   "source": [
    "Calculate the output"
   ]
  },
  {
   "cell_type": "code",
   "execution_count": 10,
   "metadata": {
    "collapsed": false
   },
   "outputs": [
    {
     "name": "stdout",
     "output_type": "stream",
     "text": [
      "[[ 0.51885015  0.491552    0.47235176  0.46274254]]\n"
     ]
    }
   ],
   "source": [
    "print(sess.run(output,feed_dict={INPUT:dummy_data}))"
   ]
  },
  {
   "cell_type": "markdown",
   "metadata": {},
   "source": [
    "### Generate Data To Train The NN"
   ]
  },
  {
   "cell_type": "markdown",
   "metadata": {},
   "source": [
    "How many pair Input,Output are we gonna generate"
   ]
  },
  {
   "cell_type": "code",
   "execution_count": 11,
   "metadata": {
    "collapsed": true
   },
   "outputs": [],
   "source": [
    "n_of_pair_of_data = 10000"
   ]
  },
  {
   "cell_type": "markdown",
   "metadata": {},
   "source": [
    "Generate NOT Pair of array"
   ]
  },
  {
   "cell_type": "code",
   "execution_count": 12,
   "metadata": {
    "collapsed": false,
    "scrolled": true
   },
   "outputs": [
    {
     "name": "stdout",
     "output_type": "stream",
     "text": [
      "X\n",
      "[[1 0 0 1]\n",
      " [1 1 1 0]\n",
      " [0 1 1 1]\n",
      " ..., \n",
      " [1 0 1 0]\n",
      " [1 0 1 0]\n",
      " [1 1 0 1]]\n",
      "Y\n",
      "[[0 1 1 0]\n",
      " [0 0 0 1]\n",
      " [1 0 0 0]\n",
      " ..., \n",
      " [0 1 0 1]\n",
      " [0 1 0 1]\n",
      " [0 0 1 0]]\n"
     ]
    }
   ],
   "source": [
    "X = np.random.randint(0,2,(n_of_pair_of_data,input_dimension))\n",
    "Y = 1 - X\n",
    "\n",
    "print(\"X\\n%s\"%X)\n",
    "print(\"Y\\n%s\"%Y)"
   ]
  },
  {
   "cell_type": "markdown",
   "metadata": {},
   "source": [
    "### Train the NN"
   ]
  },
  {
   "cell_type": "markdown",
   "metadata": {},
   "source": [
    "How many iteration of training we are gonna do"
   ]
  },
  {
   "cell_type": "code",
   "execution_count": 13,
   "metadata": {
    "collapsed": true
   },
   "outputs": [],
   "source": [
    "n_of_iteration = 100\n",
    "batch_size = 10"
   ]
  },
  {
   "cell_type": "markdown",
   "metadata": {},
   "source": [
    "Train loop and print output every 20 iteration"
   ]
  },
  {
   "cell_type": "code",
   "execution_count": 14,
   "metadata": {
    "collapsed": false
   },
   "outputs": [
    {
     "name": "stdout",
     "output_type": "stream",
     "text": [
      "0\n",
      "result: \t[ 0.31442097  0.30756313  0.30055854  0.2953698 ]\n",
      "casted: \t[0 0 0 0]\n",
      "original\t[1 0 0 0]\n",
      "10\n",
      "result: \t[ 0.06017575  0.08183844  0.06820544  0.07080541]\n",
      "casted: \t[0 0 0 0]\n",
      "original\t[1 0 0 0]\n",
      "20\n",
      "result: \t[ 0.09279105  0.11867038  0.11614312  0.08481433]\n",
      "casted: \t[0 0 0 0]\n",
      "original\t[0 0 0 1]\n",
      "30\n",
      "result: \t[ 0.00416189  0.04918669  0.20224065  0.07527158]\n",
      "casted: \t[0 0 0 0]\n",
      "original\t[0 0 0 1]\n",
      "40\n",
      "result: \t[ 0.06182946  0.79773039  0.91894776  0.18142706]\n",
      "casted: \t[0 1 1 0]\n",
      "original\t[0 1 1 0]\n",
      "50\n",
      "result: \t[  5.85816952e-06   3.90582671e-03   2.78815697e-03   9.87225354e-01]\n",
      "casted: \t[0 0 0 1]\n",
      "original\t[0 0 0 1]\n",
      "60\n",
      "result: \t[  1.37719873e-03   9.97793674e-01   9.99497056e-01   4.78220201e-04]\n",
      "casted: \t[0 1 1 0]\n",
      "original\t[0 1 1 0]\n",
      "70\n",
      "result: \t[  1.94223446e-08   1.14442228e-04   4.74210901e-05   9.99866247e-01]\n",
      "casted: \t[0 0 0 1]\n",
      "original\t[0 0 0 1]\n",
      "80\n",
      "result: \t[  2.90364488e-09   1.57282466e-05   1.68735551e-05   5.75285640e-06]\n",
      "casted: \t[0 0 0 0]\n",
      "original\t[1 0 0 0]\n",
      "90\n",
      "result: \t[  3.60161903e-06   9.99994278e-01   9.99995828e-01   1.81114058e-06]\n",
      "casted: \t[0 1 1 0]\n",
      "original\t[0 1 1 0]\n"
     ]
    }
   ],
   "source": [
    "for i in range(n_of_iteration):\n",
    "    #train for batches\n",
    "    for j in range(n_of_pair_of_data//batch_size):\n",
    "        i1 = batch_size*j\n",
    "        i2 = batch_size*(j+1)\n",
    "        sess.run(optimizer,feed_dict={INPUT:X[i1:i2],OUTPUT:Y[i1:i2]})\n",
    "    \n",
    "    #print stuff\n",
    "    if i % 10 == 0:\n",
    "        print(i)\n",
    "        j = np.random.randint(0,input_dimension - 1)\n",
    "        res = sess.run(output,feed_dict={INPUT:X[j].reshape((1,input_dimension))})[0]\n",
    "        print(\"result: \\t%s\"%res)\n",
    "        #convert to 1 an 0 from probability\n",
    "        res = np.array(res > 0.5,dtype=np.int)\n",
    "        print(\"casted: \\t%s\"%res)\n",
    "        print(\"original\\t%s\"%Y[j])"
   ]
  },
  {
   "cell_type": "markdown",
   "metadata": {},
   "source": [
    "### Test the NN"
   ]
  },
  {
   "cell_type": "code",
   "execution_count": 15,
   "metadata": {
    "collapsed": false
   },
   "outputs": [
    {
     "name": "stdout",
     "output_type": "stream",
     "text": [
      "[[  9.99998927e-01   9.99998212e-01   9.99999046e-01   8.56282213e-07]]\n",
      "[[1 1 1 0]]\n",
      "[[0 0 0 1]]\n"
     ]
    }
   ],
   "source": [
    "X_test = np.random.randint(0,2,(1,input_dimension))\n",
    "res = sess.run(output,feed_dict={INPUT:X_test})\n",
    "print(res)\n",
    "res = np.array(res > 0.5,dtype=np.int)\n",
    "print(res)\n",
    "print(X_test)"
   ]
  }
 ],
 "metadata": {
  "anaconda-cloud": {},
  "kernelspec": {
   "display_name": "Python [default]",
   "language": "python",
   "name": "python3"
  },
  "language_info": {
   "codemirror_mode": {
    "name": "ipython",
    "version": 3
   },
   "file_extension": ".py",
   "mimetype": "text/x-python",
   "name": "python",
   "nbconvert_exporter": "python",
   "pygments_lexer": "ipython3",
   "version": "3.5.2"
  }
 },
 "nbformat": 4,
 "nbformat_minor": 1
}
